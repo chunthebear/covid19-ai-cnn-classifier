{
 "cells": [
  {
   "cell_type": "code",
   "execution_count": 1,
   "metadata": {},
   "outputs": [],
   "source": [
    "# Author: Yichun Zhao\n",
    "\n",
    "import tensorflow as tf\n",
    "from tensorflow import keras\n",
    "import numpy as np\n",
    "import matplotlib.pyplot as plt\n",
    "import os\n",
    "import imutils\n",
    "import cv2\n",
    "\n",
    "import tkinter as tk\n",
    "import tkinter.filedialog as fd"
   ]
  },
  {
   "cell_type": "code",
   "execution_count": 2,
   "metadata": {},
   "outputs": [
    {
     "name": "stdout",
     "output_type": "stream",
     "text": [
      "\n",
      "[INFO] LOARDING TRAINED MODEL......\n",
      "\n",
      "\n",
      "[INFO] MODEL LOADED! Please select an x-ray image.\n",
      "\n"
     ]
    }
   ],
   "source": [
    "# load keras model\n",
    "print(\"\\n[INFO] LOARDING TRAINED MODEL......\\n\")\n",
    "model_loaded = keras.models.load_model(os.path.abspath('')+\"/model\")\n",
    "print(\"\\n[INFO] MODEL LOADED! Please select an x-ray image.\\n\")"
   ]
  },
  {
   "cell_type": "code",
   "execution_count": 3,
   "metadata": {},
   "outputs": [
    {
     "name": "stdout",
     "output_type": "stream",
     "text": [
      "\n",
      "PROBABILITY:   0.39996204\n",
      "\n",
      "RESULT:  COVID19 not detected.\n",
      "\n"
     ]
    }
   ],
   "source": [
    "root = tk.Tk()\n",
    "root.withdraw()\n",
    "file_path = fd.askopenfilename()\n",
    "\n",
    "#image = cv2.imread(os.path.abspath('')+\"/dataset/evaluate/yes/000001-10.jpg\", cv2.IMREAD_GRAYSCALE)\n",
    "image = cv2.imread(file_path, cv2.IMREAD_GRAYSCALE)\n",
    "image = cv2.resize(image, (224, 224))\n",
    "image = image/255\n",
    "image = image.reshape(1, image.shape[0], image.shape[1], 1)\n",
    "output = model_loaded.predict(image)\n",
    "print(\"\\nPROBABILITY:  \", output[0][0])\n",
    "output = int(round(output[0][0]))\n",
    "if (output):\n",
    "    print(\"\\nRESULT:  COVID19 detected.\\n\")\n",
    "else:\n",
    "    print(\"\\nRESULT:  COVID19 not detected.\\n\")"
   ]
  },
  {
   "cell_type": "code",
   "execution_count": null,
   "metadata": {},
   "outputs": [],
   "source": []
  }
 ],
 "metadata": {
  "kernelspec": {
   "display_name": "Python 3",
   "language": "python",
   "name": "python3"
  },
  "language_info": {
   "codemirror_mode": {
    "name": "ipython",
    "version": 3
   },
   "file_extension": ".py",
   "mimetype": "text/x-python",
   "name": "python",
   "nbconvert_exporter": "python",
   "pygments_lexer": "ipython3",
   "version": "3.6.5"
  }
 },
 "nbformat": 4,
 "nbformat_minor": 2
}
