{
 "cells": [
  {
   "cell_type": "code",
   "execution_count": 17,
   "metadata": {},
   "outputs": [],
   "source": [
    "# Author: Yichun Zhao\n",
    "\n",
    "import tensorflow as tf\n",
    "from tensorflow import keras\n",
    "import numpy as np\n",
    "import matplotlib.pyplot as plt\n",
    "import os\n",
    "import imutils\n",
    "import cv2\n",
    "\n",
    "import tkinter as tk\n",
    "import tkinter.filedialog as fd"
   ]
  },
  {
   "cell_type": "code",
   "execution_count": 18,
   "metadata": {},
   "outputs": [],
   "source": [
    "# load keras model\n",
    "model_loaded = keras.models.load_model(os.path.abspath('')+\"/model\")"
   ]
  },
  {
   "cell_type": "code",
   "execution_count": null,
   "metadata": {},
   "outputs": [],
   "source": [
    "root = tk.Tk()\n",
    "root.withdraw()\n",
    "\n",
    "file_path = fd.askopenfilename()\n",
    "\n",
    "#image = cv2.imread(os.path.abspath('')+\"/dataset/evaluate/yes/000001-13.jpg\", cv2.IMREAD_GRAYSCALE)\n",
    "image = cv2.imread(file_path, cv2.IMREAD_GRAYSCALE)\n",
    "image = cv2.resize(image, (224, 224))\n",
    "image = image.reshape(1, image.shape[0], image.shape[1], 1)\n",
    "output = model_loaded.predict(image)\n",
    "output = int(round(output[0][0]))\n",
    "if (output):\n",
    "    print(\"\\nCOVID19 detected.\\n\")\n",
    "else:\n",
    "    print(\"\\nCOVID19 not detected.\\n\")"
   ]
  },
  {
   "cell_type": "code",
   "execution_count": null,
   "metadata": {},
   "outputs": [],
   "source": []
  }
 ],
 "metadata": {
  "kernelspec": {
   "display_name": "Python 3",
   "language": "python",
   "name": "python3"
  },
  "language_info": {
   "codemirror_mode": {
    "name": "ipython",
    "version": 3
   },
   "file_extension": ".py",
   "mimetype": "text/x-python",
   "name": "python",
   "nbconvert_exporter": "python",
   "pygments_lexer": "ipython3",
   "version": "3.6.5"
  }
 },
 "nbformat": 4,
 "nbformat_minor": 2
}
